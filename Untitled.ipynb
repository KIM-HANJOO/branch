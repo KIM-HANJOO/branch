{
 "cells": [
  {
   "cell_type": "code",
   "execution_count": 12,
   "id": "c2de702d",
   "metadata": {},
   "outputs": [
    {
     "name": "stdout",
     "output_type": "stream",
     "text": [
      ".                                       \n",
      "├─ 1.preprocessing                      \n",
      "│  ├─nan values                         \n",
      "│  ├─outliers                           \n",
      "│  │  ├─check1per                       \n",
      "│  │  ├─zscore                          \n",
      "│  │  ├─1 percent                       \n",
      "│  │  └─tukeys fences                   \n",
      "│  └─interpotation                      \n",
      "│                                       \n",
      "├─ 2.model                              \n",
      "│  ├─model3                             \n",
      "│  ├─model2                             \n",
      "│  └─model4                             \n",
      "│                                       \n",
      "├─ 3.plotting                           \n",
      "│  ├─boxplot                            \n",
      "│  │  ├─boxplot_df                      \n",
      "│  │  └─boxplot_list                    \n",
      "│  └─barplot                            \n",
      "│     ├─barplot                         \n",
      "│     └─barplot_st                      \n",
      "│                                       \n",
      "└─ 3.etc                                \n",
      "   ├─read_excel                         \n",
      "   ├─pernull                            \n",
      "   └─os                                 \n",
      "      ├─match_samefolder                \n",
      "      ├─newfolderlist                   \n",
      "      ├─deletestr                       \n",
      "      └─delun                           \n",
      "\n"
     ]
    },
    {
     "data": {
      "text/plain": [
       "'.                                       \\n├─ 1.preprocessing                      \\n│  ├─nan values                         \\n│  ├─outliers                           \\n│  │  ├─check1per                       \\n│  │  ├─zscore                          \\n│  │  ├─1 percent                       \\n│  │  └─tukeys fences                   \\n│  └─interpotation                      \\n│                                       \\n├─ 2.model                              \\n│  ├─model3                             \\n│  ├─model2                             \\n│  └─model4                             \\n│                                       \\n├─ 3.plotting                           \\n│  ├─boxplot                            \\n│  │  ├─boxplot_df                      \\n│  │  └─boxplot_list                    \\n│  └─barplot                            \\n│     ├─barplot                         \\n│     └─barplot_st                      \\n│                                       \\n└─ 3.etc                                \\n   ├─read_excel                         \\n   ├─pernull                            \\n   └─os                                 \\n      ├─match_samefolder                \\n      ├─newfolderlist                   \\n      ├─deletestr                       \\n      └─delun                           \\n'"
      ]
     },
     "execution_count": 12,
     "metadata": {},
     "output_type": "execute_result"
    }
   ],
   "source": [
    "import sys                                                    \n",
    "sys.path.append('C:\\\\Users\\\\joo09\\\\Documents\\\\GitHub\\\\branch')\n",
    "import branch as brn                                          \n",
    "                                                               \n",
    "brn.branch('[m]  1.preprocessing [s] nan values [s] outliers \\\n",
    "            [ss] check1per [ss] zscore [ss] 1 percent [ss] tukeys fences [s] interpotation \\\n",
    "            [m]  2.model [s] model3 [s] model2 [s] model4 [m]  3.plotting [s] boxplot \\\n",
    "            [ss] boxplot_df [ss] boxplot_list [s] barplot [ss] barplot [ss] barplot_st\\\n",
    "            [m]  3.etc [s] read_excel [s] pernull [s] os [ss] match_samefolder [ss] newfolderlist \\\n",
    "            [ss] deletestr [ss] delun')"
   ]
  },
  {
   "cell_type": "code",
   "execution_count": 3,
   "id": "10c1e9cd",
   "metadata": {},
   "outputs": [
    {
     "name": "stdout",
     "output_type": "stream",
     "text": [
      ".                             \n",
      "├─예시                          \n",
      "│  ├─교육서비스업                   \n",
      "│  └─교육서비스업(완성본)              \n",
      "│                             \n",
      "├─jupyter notebook 코드         \n",
      "│  ├─코드_전처리                   \n",
      "│  └─코드_모델                    \n",
      "│                             \n",
      "└─사용 함수                       \n",
      "   └─패키지                      \n",
      "\n",
      ".                                       \n",
      "├─순서                                    \n",
      "│  ├─jupyter notebook 설치                \n",
      "│  ├─jupyter notebook 실행                \n",
      "│  │  ├─1. 코드_전처리                       \n",
      "│  │  └─2. 코드_모델                        \n",
      "│  └─패키지, 폴더 위치 설정                      \n",
      "│                                       \n",
      "└─예시                                    \n",
      "   ├─교육서비스업                             \n",
      "   └─교육서비스업(완성본)                        \n",
      "\n"
     ]
    },
    {
     "data": {
      "text/plain": [
       "'.                                       \\n├─순서                                    \\n│  ├─jupyter notebook 설치                \\n│  ├─jupyter notebook 실행                \\n│  │  ├─1. 코드_전처리                       \\n│  │  └─2. 코드_모델                        \\n│  └─패키지, 폴더 위치 설정                      \\n│                                       \\n└─예시                                    \\n   ├─교육서비스업                             \\n   └─교육서비스업(완성본)                        \\n'"
      ]
     },
     "execution_count": 3,
     "metadata": {},
     "output_type": "execute_result"
    }
   ],
   "source": [
    "import sys                                                    \n",
    "sys.path.append('C:\\\\Users\\\\joo09\\\\Documents\\\\GitHub\\\\branch')\n",
    "import branch as brn                                          \n",
    "\n",
    "brn.branch('[m] 예시 [s] 교육서비스업 [s] 교육서비스업(완성본)\\\n",
    "            [m] jupyter notebook 코드 [s] 코드_전처리 [s] 코드_모델\\\n",
    "            [m] 사용 함수 [s] 패키지')\n",
    "\n",
    "\n",
    "\n",
    "brn.branch('[m] 순서 [s] jupyter notebook 설치 [s] jupyter notebook 실행 [ss] 1. 코드_전처리 \\\n",
    "            [ss] 2. 코드_모델 [s] 패키지, 폴더 위치 설정\\\n",
    "            [m] 예시 [s] 교육서비스업 [s] 교육서비스업(완성본)')"
   ]
  },
  {
   "cell_type": "code",
   "execution_count": null,
   "id": "e97c048d",
   "metadata": {},
   "outputs": [],
   "source": []
  }
 ],
 "metadata": {
  "kernelspec": {
   "display_name": "Python 3 (ipykernel)",
   "language": "python",
   "name": "python3"
  },
  "language_info": {
   "codemirror_mode": {
    "name": "ipython",
    "version": 3
   },
   "file_extension": ".py",
   "mimetype": "text/x-python",
   "name": "python",
   "nbconvert_exporter": "python",
   "pygments_lexer": "ipython3",
   "version": "3.9.6"
  }
 },
 "nbformat": 4,
 "nbformat_minor": 5
}
